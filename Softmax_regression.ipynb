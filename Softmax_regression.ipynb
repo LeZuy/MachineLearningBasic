{
  "nbformat": 4,
  "nbformat_minor": 0,
  "metadata": {
    "colab": {
      "provenance": [],
      "authorship_tag": "ABX9TyP58pOUVlGuLnYzY9Ts2JtQ",
      "include_colab_link": true
    },
    "kernelspec": {
      "name": "python3",
      "display_name": "Python 3"
    },
    "language_info": {
      "name": "python"
    }
  },
  "cells": [
    {
      "cell_type": "markdown",
      "metadata": {
        "id": "view-in-github",
        "colab_type": "text"
      },
      "source": [
        "<a href=\"https://colab.research.google.com/github/LeZuy/MachineLearningBasic/blob/main/Softmax_regression.ipynb\" target=\"_parent\"><img src=\"https://colab.research.google.com/assets/colab-badge.svg\" alt=\"Open In Colab\"/></a>"
      ]
    },
    {
      "cell_type": "code",
      "source": [
        "from keras.datasets import mnist\n",
        "(X_train, Y_train), (X_test, Y_test) = mnist.load_data()\n",
        "#type(x_train)"
      ],
      "metadata": {
        "id": "8FqXqOg_2eh_"
      },
      "execution_count": 164,
      "outputs": []
    },
    {
      "cell_type": "code",
      "source": [
        "import matplotlib.pyplot as plt\n",
        "import numpy as np"
      ],
      "metadata": {
        "id": "aBlosSBG2mHm"
      },
      "execution_count": 165,
      "outputs": []
    },
    {
      "cell_type": "code",
      "source": [
        "plt.imshow(X_train[0], cmap='gray')\n",
        "plt.title(Y_train[0]);"
      ],
      "metadata": {
        "colab": {
          "base_uri": "https://localhost:8080/",
          "height": 452
        },
        "id": "ixPqC15v2tU4",
        "outputId": "89e6274f-b051-4dc8-863a-60b31e29aca4"
      },
      "execution_count": 166,
      "outputs": [
        {
          "output_type": "display_data",
          "data": {
            "text/plain": [
              "<Figure size 640x480 with 1 Axes>"
            ],
            "image/png": "[encoded data removed]"
          },
          "metadata": {}
        }
      ]
    },
    {
      "cell_type": "code",
      "source": [
        "def softmax(X):\n",
        "  X_exp = np.exp(X)\n",
        "  partition = np.sum(X_exp, axis = 1, keepdims = True)\n",
        "  return X_exp / partition\n",
        "\n",
        "def predict(x, w):\n",
        "  a = softmax((x.dot(w)))\n",
        "  return np.argmax(a, axis = 1)"
      ],
      "metadata": {
        "id": "Gpj4iREqjbO4"
      },
      "execution_count": 167,
      "outputs": []
    },
    {
      "cell_type": "code",
      "source": [
        "def cross_entropy(y_hat, y):\n",
        "  epsilon = 1e-6\n",
        "  loss = -np.mean(np.sum(np.log(y_hat+epsilon) * y, axis = 1))\n",
        "  return loss\n",
        "\n",
        "def GradientStep(y_hat, y, x, theta, lr, m):\n",
        "  cost = y_hat - y\n",
        "  gradient = 1/m * np.dot(x.T,cost)\n",
        "  theta = theta - lr*gradient\n",
        "  return theta\n"
      ],
      "metadata": {
        "id": "JioGOzQClJz9"
      },
      "execution_count": 168,
      "outputs": []
    },
    {
      "cell_type": "code",
      "source": [
        "num_in=28*28\n",
        "num_out=10\n",
        "\n",
        "w = np.random.normal(0, 0.01, (num_in, num_out))\n",
        "b = np.zeros(num_out)\n",
        "\n",
        "lr=0.5\n",
        "batch=10000\n",
        "epochs=5001\n",
        "train_log = np.zeros(epochs+1)"
      ],
      "metadata": {
        "id": "dGrEFcEo0bsm"
      },
      "execution_count": 175,
      "outputs": []
    },
    {
      "cell_type": "code",
      "source": [
        "x_train = X_train.reshape(60000, num_in)\n",
        "x_test = X_test.reshape(10000, num_in)\n",
        "\n",
        "x_train = x_train.astype('float32')\n",
        "x_test = x_test.astype('float32')\n",
        "\n",
        "x_train /= 255\n",
        "x_test /= 255"
      ],
      "metadata": {
        "id": "fmBPooEA1aBJ"
      },
      "execution_count": 176,
      "outputs": []
    },
    {
      "cell_type": "code",
      "source": [
        "#convert label vector y to one-hot\n",
        "y_1hot = np.zeros((Y_train.size, max(Y_train)+1))\n",
        "rows = np.arange(Y_train.size)\n",
        "y_1hot[rows, Y_train] = 1"
      ],
      "metadata": {
        "id": "na4_CSuT7Dzu"
      },
      "execution_count": 177,
      "outputs": []
    },
    {
      "cell_type": "code",
      "source": [
        "for epoch in range(epochs):\n",
        "  sigma = softmax(np.dot(x_train[:batch], w))\n",
        "  if epoch % 50 == 0:\n",
        "    loss = cross_entropy(sigma, y_1hot[:batch])\n",
        "    print(epoch, \":\", loss)\n",
        "    train_log[epoch] = loss\n",
        "  w = GradientStep(sigma, y_1hot[:batch], x_train[:batch], w, lr, batch)"
      ],
      "metadata": {
        "colab": {
          "base_uri": "https://localhost:8080/"
        },
        "id": "dFem7a370p15",
        "outputId": "e53719b8-0f55-4915-8e8c-203fbb1ed691"
      },
      "execution_count": 178,
      "outputs": [
        {
          "output_type": "stream",
          "name": "stdout",
          "text": [
            "0 : 2.3266919573924563\n",
            "50 : 0.4376643588116425\n",
            "100 : 0.36812884701336857\n",
            "150 : 0.33705319339607803\n",
            "200 : 0.31791679719270705\n",
            "250 : 0.30435284156006803\n",
            "300 : 0.29394932649779887\n",
            "350 : 0.28555846267129487\n",
            "400 : 0.2785516307075809\n",
            "450 : 0.27254989039382066\n",
            "500 : 0.2673083384518437\n",
            "550 : 0.2626601282853039\n",
            "600 : 0.2584868102812602\n",
            "650 : 0.25470147021841283\n",
            "700 : 0.25123858542001026\n",
            "750 : 0.24804763257197168\n",
            "800 : 0.24508890108893833\n",
            "850 : 0.24233066029791686\n",
            "900 : 0.23974718874067863\n",
            "950 : 0.23731737010057233\n",
            "1000 : 0.2350236718780997\n",
            "1050 : 0.2328513888617329\n",
            "1100 : 0.23078807367739668\n",
            "1150 : 0.2288231019858313\n",
            "1200 : 0.22694733620487723\n",
            "1250 : 0.2251528623981927\n",
            "1300 : 0.22343278222688806\n",
            "1350 : 0.22178104684282327\n",
            "1400 : 0.22019232308231568\n",
            "1450 : 0.21866188478733625\n",
            "1500 : 0.2171855238566614\n",
            "1550 : 0.21575947692281056\n",
            "1600 : 0.2143803645038665\n",
            "1650 : 0.21304514018945991\n",
            "1700 : 0.2117510479545536\n",
            "1750 : 0.21049558610042432\n",
            "1800 : 0.20927647663300186\n",
            "1850 : 0.20809163912863488\n",
            "1900 : 0.2069391683239557\n",
            "1950 : 0.20581731481269036\n",
            "2000 : 0.20472446834752508\n",
            "2050 : 0.20365914333661878\n",
            "2100 : 0.20261996619738448\n",
            "2150 : 0.20160566428881505\n",
            "2200 : 0.20061505619098674\n",
            "2250 : 0.19964704313881756\n",
            "2300 : 0.19870060144852245\n",
            "2350 : 0.19777477580091699\n",
            "2400 : 0.19686867326689572\n",
            "2450 : 0.19598145797792169\n",
            "2500 : 0.19511234635890629\n",
            "2550 : 0.19426060285298255\n",
            "2600 : 0.19342553607781895\n",
            "2650 : 0.19260649536163787\n",
            "2700 : 0.19180286761427973\n",
            "2750 : 0.19101407449471727\n",
            "2800 : 0.19023956984156642\n",
            "2850 : 0.1894788373375122\n",
            "2900 : 0.18873138838229414\n",
            "2950 : 0.18799676015208844\n",
            "3000 : 0.18727451382585375\n",
            "3050 : 0.18656423296156427\n",
            "3100 : 0.1858655220072795\n",
            "3150 : 0.18517800493375594\n",
            "3200 : 0.18450132397682825\n",
            "3250 : 0.18383513847910862\n",
            "3300 : 0.1831791238217087\n",
            "3350 : 0.18253297043769576\n",
            "3400 : 0.18189638289987808\n",
            "3450 : 0.18126907907629203\n",
            "3500 : 0.1806507893474454\n",
            "3550 : 0.1800412558799755\n",
            "3600 : 0.17944023195191372\n",
            "3650 : 0.1788474813252229\n",
            "3700 : 0.1782627776616909\n",
            "3750 : 0.1776859039786403\n",
            "3800 : 0.1771166521412475\n",
            "3850 : 0.17655482238856013\n",
            "3900 : 0.17600022289057152\n",
            "3950 : 0.17545266933394696\n",
            "4000 : 0.174911984534213\n",
            "4050 : 0.17437799807241286\n",
            "4100 : 0.17385054595440513\n",
            "4150 : 0.17332947029114007\n",
            "4200 : 0.1728146189983876\n",
            "4250 : 0.17230584551452122\n",
            "4300 : 0.17180300853507605\n",
            "4350 : 0.17130597176290502\n",
            "4400 : 0.17081460367285212\n",
            "4450 : 0.1703287772899484\n",
            "4500 : 0.16984836998021466\n",
            "4550 : 0.16937326325322694\n",
            "4600 : 0.16890334257566605\n",
            "4650 : 0.1684384971951316\n",
            "4700 : 0.16797861997355576\n",
            "4750 : 0.16752360722960194\n",
            "4800 : 0.16707335858947842\n",
            "4850 : 0.16662777684563948\n",
            "4900 : 0.1661867678228845\n",
            "4950 : 0.16575024025139948\n",
            "5000 : 0.1653181056463205\n"
          ]
        }
      ]
    },
    {
      "cell_type": "code",
      "source": [
        "y = predict(x_test, w)\n",
        "accuracy = np.mean(y == Y_test)\n",
        "print(accuracy)"
      ],
      "metadata": {
        "colab": {
          "base_uri": "https://localhost:8080/"
        },
        "id": "YdFtnTbzWpJZ",
        "outputId": "0febb32a-e20a-4dee-d898-5b128e091c81"
      },
      "execution_count": 179,
      "outputs": [
        {
          "output_type": "stream",
          "name": "stdout",
          "text": [
            "0.9072\n"
          ]
        }
      ]
    },
    {
      "cell_type": "code",
      "source": [
        "fig = plt.figure()\n",
        "\n",
        "for i in range(1, 21):\n",
        "  fig.add_subplot(4, 5, i)\n",
        "  plt.imshow(X_test[i])\n",
        "  plt.title(y[i])\n",
        "  plt.axis('off')\n",
        "\n",
        "\n",
        "fig.subplots_adjust(left=0,\n",
        "                    bottom=0,\n",
        "                    right=1.0,\n",
        "                    top=1.0,\n",
        "                    wspace=0.4,\n",
        "                    hspace=0.4)\n",
        "fig.show()"
      ],
      "metadata": {
        "colab": {
          "base_uri": "https://localhost:8080/",
          "height": 539
        },
        "id": "5wCP42dLoKI4",
        "outputId": "8ad9a358-907d-4753-dfc8-01cb3104eacb"
      },
      "execution_count": 180,
      "outputs": [
        {
          "output_type": "display_data",
          "data": {
            "text/plain": [
              "<Figure size 640x480 with 20 Axes>"
            ],
            "image/png": "[encoded data removed]"
          },
          "metadata": {}
        }
      ]
    }
  ]
}